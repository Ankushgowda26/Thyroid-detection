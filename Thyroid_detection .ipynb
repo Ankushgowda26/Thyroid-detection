{
 "cells": [
  {
   "cell_type": "code",
   "execution_count": 1,
   "id": "c80a4717",
   "metadata": {},
   "outputs": [],
   "source": [
    "import pandas as pd\n",
    "import numpy as np"
   ]
  },
  {
   "cell_type": "code",
   "execution_count": 2,
   "id": "4c9cadcf",
   "metadata": {},
   "outputs": [
    {
     "data": {
      "text/html": [
       "<div>\n",
       "<style scoped>\n",
       "    .dataframe tbody tr th:only-of-type {\n",
       "        vertical-align: middle;\n",
       "    }\n",
       "\n",
       "    .dataframe tbody tr th {\n",
       "        vertical-align: top;\n",
       "    }\n",
       "\n",
       "    .dataframe thead th {\n",
       "        text-align: right;\n",
       "    }\n",
       "</style>\n",
       "<table border=\"1\" class=\"dataframe\">\n",
       "  <thead>\n",
       "    <tr style=\"text-align: right;\">\n",
       "      <th></th>\n",
       "      <th>age</th>\n",
       "      <th>sex</th>\n",
       "      <th>on_thyroxine</th>\n",
       "      <th>query_on_thyroxine</th>\n",
       "      <th>on_antithyroid_meds</th>\n",
       "      <th>sick</th>\n",
       "      <th>pregnant</th>\n",
       "      <th>thyroid_surgery</th>\n",
       "      <th>I131_treatment</th>\n",
       "      <th>query_hypothyroid</th>\n",
       "      <th>...</th>\n",
       "      <th>TT4</th>\n",
       "      <th>T4U_measured</th>\n",
       "      <th>T4U</th>\n",
       "      <th>FTI_measured</th>\n",
       "      <th>FTI</th>\n",
       "      <th>TBG_measured</th>\n",
       "      <th>TBG</th>\n",
       "      <th>referral_source</th>\n",
       "      <th>target</th>\n",
       "      <th>patient_id</th>\n",
       "    </tr>\n",
       "  </thead>\n",
       "  <tbody>\n",
       "    <tr>\n",
       "      <th>0</th>\n",
       "      <td>29</td>\n",
       "      <td>F</td>\n",
       "      <td>f</td>\n",
       "      <td>f</td>\n",
       "      <td>f</td>\n",
       "      <td>f</td>\n",
       "      <td>f</td>\n",
       "      <td>f</td>\n",
       "      <td>f</td>\n",
       "      <td>t</td>\n",
       "      <td>...</td>\n",
       "      <td>NaN</td>\n",
       "      <td>f</td>\n",
       "      <td>NaN</td>\n",
       "      <td>f</td>\n",
       "      <td>NaN</td>\n",
       "      <td>f</td>\n",
       "      <td>NaN</td>\n",
       "      <td>other</td>\n",
       "      <td>-</td>\n",
       "      <td>840801013</td>\n",
       "    </tr>\n",
       "    <tr>\n",
       "      <th>1</th>\n",
       "      <td>29</td>\n",
       "      <td>F</td>\n",
       "      <td>f</td>\n",
       "      <td>f</td>\n",
       "      <td>f</td>\n",
       "      <td>f</td>\n",
       "      <td>f</td>\n",
       "      <td>f</td>\n",
       "      <td>f</td>\n",
       "      <td>f</td>\n",
       "      <td>...</td>\n",
       "      <td>128.0</td>\n",
       "      <td>f</td>\n",
       "      <td>NaN</td>\n",
       "      <td>f</td>\n",
       "      <td>NaN</td>\n",
       "      <td>f</td>\n",
       "      <td>NaN</td>\n",
       "      <td>other</td>\n",
       "      <td>-</td>\n",
       "      <td>840801014</td>\n",
       "    </tr>\n",
       "    <tr>\n",
       "      <th>2</th>\n",
       "      <td>41</td>\n",
       "      <td>F</td>\n",
       "      <td>f</td>\n",
       "      <td>f</td>\n",
       "      <td>f</td>\n",
       "      <td>f</td>\n",
       "      <td>f</td>\n",
       "      <td>f</td>\n",
       "      <td>f</td>\n",
       "      <td>f</td>\n",
       "      <td>...</td>\n",
       "      <td>NaN</td>\n",
       "      <td>f</td>\n",
       "      <td>NaN</td>\n",
       "      <td>f</td>\n",
       "      <td>NaN</td>\n",
       "      <td>t</td>\n",
       "      <td>11.0</td>\n",
       "      <td>other</td>\n",
       "      <td>-</td>\n",
       "      <td>840801042</td>\n",
       "    </tr>\n",
       "    <tr>\n",
       "      <th>3</th>\n",
       "      <td>36</td>\n",
       "      <td>F</td>\n",
       "      <td>f</td>\n",
       "      <td>f</td>\n",
       "      <td>f</td>\n",
       "      <td>f</td>\n",
       "      <td>f</td>\n",
       "      <td>f</td>\n",
       "      <td>f</td>\n",
       "      <td>f</td>\n",
       "      <td>...</td>\n",
       "      <td>NaN</td>\n",
       "      <td>f</td>\n",
       "      <td>NaN</td>\n",
       "      <td>f</td>\n",
       "      <td>NaN</td>\n",
       "      <td>t</td>\n",
       "      <td>26.0</td>\n",
       "      <td>other</td>\n",
       "      <td>-</td>\n",
       "      <td>840803046</td>\n",
       "    </tr>\n",
       "    <tr>\n",
       "      <th>4</th>\n",
       "      <td>32</td>\n",
       "      <td>F</td>\n",
       "      <td>f</td>\n",
       "      <td>f</td>\n",
       "      <td>f</td>\n",
       "      <td>f</td>\n",
       "      <td>f</td>\n",
       "      <td>f</td>\n",
       "      <td>f</td>\n",
       "      <td>f</td>\n",
       "      <td>...</td>\n",
       "      <td>NaN</td>\n",
       "      <td>f</td>\n",
       "      <td>NaN</td>\n",
       "      <td>f</td>\n",
       "      <td>NaN</td>\n",
       "      <td>t</td>\n",
       "      <td>36.0</td>\n",
       "      <td>other</td>\n",
       "      <td>S</td>\n",
       "      <td>840803047</td>\n",
       "    </tr>\n",
       "  </tbody>\n",
       "</table>\n",
       "<p>5 rows × 31 columns</p>\n",
       "</div>"
      ],
      "text/plain": [
       "   age sex on_thyroxine query_on_thyroxine on_antithyroid_meds sick pregnant  \\\n",
       "0   29   F            f                  f                   f    f        f   \n",
       "1   29   F            f                  f                   f    f        f   \n",
       "2   41   F            f                  f                   f    f        f   \n",
       "3   36   F            f                  f                   f    f        f   \n",
       "4   32   F            f                  f                   f    f        f   \n",
       "\n",
       "  thyroid_surgery I131_treatment query_hypothyroid  ...    TT4 T4U_measured  \\\n",
       "0               f              f                 t  ...    NaN            f   \n",
       "1               f              f                 f  ...  128.0            f   \n",
       "2               f              f                 f  ...    NaN            f   \n",
       "3               f              f                 f  ...    NaN            f   \n",
       "4               f              f                 f  ...    NaN            f   \n",
       "\n",
       "  T4U FTI_measured FTI TBG_measured   TBG  referral_source target  patient_id  \n",
       "0 NaN            f NaN            f   NaN            other      -   840801013  \n",
       "1 NaN            f NaN            f   NaN            other      -   840801014  \n",
       "2 NaN            f NaN            t  11.0            other      -   840801042  \n",
       "3 NaN            f NaN            t  26.0            other      -   840803046  \n",
       "4 NaN            f NaN            t  36.0            other      S   840803047  \n",
       "\n",
       "[5 rows x 31 columns]"
      ]
     },
     "execution_count": 2,
     "metadata": {},
     "output_type": "execute_result"
    }
   ],
   "source": [
    "df=pd.read_csv('D:/ml/thyroidDF.csv')\n",
    "df.head()"
   ]
  },
  {
   "cell_type": "code",
   "execution_count": 3,
   "id": "583622f5",
   "metadata": {},
   "outputs": [
    {
     "name": "stdout",
     "output_type": "stream",
     "text": [
      "<class 'pandas.core.frame.DataFrame'>\n",
      "RangeIndex: 9172 entries, 0 to 9171\n",
      "Data columns (total 31 columns):\n",
      " #   Column               Non-Null Count  Dtype  \n",
      "---  ------               --------------  -----  \n",
      " 0   age                  9172 non-null   int64  \n",
      " 1   sex                  8865 non-null   object \n",
      " 2   on_thyroxine         9172 non-null   object \n",
      " 3   query_on_thyroxine   9172 non-null   object \n",
      " 4   on_antithyroid_meds  9172 non-null   object \n",
      " 5   sick                 9172 non-null   object \n",
      " 6   pregnant             9172 non-null   object \n",
      " 7   thyroid_surgery      9172 non-null   object \n",
      " 8   I131_treatment       9172 non-null   object \n",
      " 9   query_hypothyroid    9172 non-null   object \n",
      " 10  query_hyperthyroid   9172 non-null   object \n",
      " 11  lithium              9172 non-null   object \n",
      " 12  goitre               9172 non-null   object \n",
      " 13  tumor                9172 non-null   object \n",
      " 14  hypopituitary        9172 non-null   object \n",
      " 15  psych                9172 non-null   object \n",
      " 16  TSH_measured         9172 non-null   object \n",
      " 17  TSH                  8330 non-null   float64\n",
      " 18  T3_measured          9172 non-null   object \n",
      " 19  T3                   6568 non-null   float64\n",
      " 20  TT4_measured         9172 non-null   object \n",
      " 21  TT4                  8730 non-null   float64\n",
      " 22  T4U_measured         9172 non-null   object \n",
      " 23  T4U                  8363 non-null   float64\n",
      " 24  FTI_measured         9172 non-null   object \n",
      " 25  FTI                  8370 non-null   float64\n",
      " 26  TBG_measured         9172 non-null   object \n",
      " 27  TBG                  349 non-null    float64\n",
      " 28  referral_source      9172 non-null   object \n",
      " 29  target               9172 non-null   object \n",
      " 30  patient_id           9172 non-null   int64  \n",
      "dtypes: float64(6), int64(2), object(23)\n",
      "memory usage: 2.2+ MB\n"
     ]
    }
   ],
   "source": [
    "df.info()"
   ]
  },
  {
   "cell_type": "code",
   "execution_count": 4,
   "id": "fbe0a740",
   "metadata": {},
   "outputs": [
    {
     "data": {
      "text/plain": [
       "Index(['age', 'sex', 'on_thyroxine', 'query_on_thyroxine',\n",
       "       'on_antithyroid_meds', 'sick', 'pregnant', 'thyroid_surgery',\n",
       "       'I131_treatment', 'query_hypothyroid', 'query_hyperthyroid', 'lithium',\n",
       "       'goitre', 'tumor', 'hypopituitary', 'psych', 'TSH_measured', 'TSH',\n",
       "       'T3_measured', 'T3', 'TT4_measured', 'TT4', 'T4U_measured', 'T4U',\n",
       "       'FTI_measured', 'FTI', 'TBG_measured', 'TBG', 'referral_source',\n",
       "       'target', 'patient_id'],\n",
       "      dtype='object')"
      ]
     },
     "execution_count": 4,
     "metadata": {},
     "output_type": "execute_result"
    }
   ],
   "source": [
    "df.columns"
   ]
  },
  {
   "cell_type": "code",
   "execution_count": 5,
   "id": "69a4eb47",
   "metadata": {},
   "outputs": [],
   "source": [
    "df.drop(['query_on_thyroxine','I131_treatment','lithium','TBG_measured','TBG','referral_source','patient_id'],axis=1,inplace=True)"
   ]
  },
  {
   "cell_type": "code",
   "execution_count": 6,
   "id": "8cef2312",
   "metadata": {},
   "outputs": [
    {
     "data": {
      "text/plain": [
       "age                       0\n",
       "sex                     307\n",
       "on_thyroxine              0\n",
       "on_antithyroid_meds       0\n",
       "sick                      0\n",
       "pregnant                  0\n",
       "thyroid_surgery           0\n",
       "query_hypothyroid         0\n",
       "query_hyperthyroid        0\n",
       "goitre                    0\n",
       "tumor                     0\n",
       "hypopituitary             0\n",
       "psych                     0\n",
       "TSH_measured              0\n",
       "TSH                     842\n",
       "T3_measured               0\n",
       "T3                     2604\n",
       "TT4_measured              0\n",
       "TT4                     442\n",
       "T4U_measured              0\n",
       "T4U                     809\n",
       "FTI_measured              0\n",
       "FTI                     802\n",
       "target                    0\n",
       "dtype: int64"
      ]
     },
     "execution_count": 6,
     "metadata": {},
     "output_type": "execute_result"
    }
   ],
   "source": [
    "df.isnull().sum()"
   ]
  },
  {
   "cell_type": "code",
   "execution_count": 7,
   "id": "37304dc6",
   "metadata": {},
   "outputs": [
    {
     "data": {
      "text/plain": [
       "0    F\n",
       "Name: sex, dtype: object"
      ]
     },
     "execution_count": 7,
     "metadata": {},
     "output_type": "execute_result"
    }
   ],
   "source": [
    "df['sex'].mode()"
   ]
  },
  {
   "cell_type": "code",
   "execution_count": 8,
   "id": "df7584cd",
   "metadata": {},
   "outputs": [],
   "source": [
    "df['sex']=df['sex'].fillna(df['sex'].mode()[0])"
   ]
  },
  {
   "cell_type": "code",
   "execution_count": 9,
   "id": "e556b14c",
   "metadata": {},
   "outputs": [],
   "source": [
    "df['TSH']=df['TSH'].fillna(df['TSH'].mean())\n",
    "df['T3']=df['T3'].fillna(df['T3'].mean())\n",
    "df['TT4']=df['TT4'].fillna(df['TT4'].mean())\n",
    "df['T4U']=df['T4U'].fillna(df['T4U'].mean())\n",
    "df['FTI']=df['FTI'].fillna(df['FTI'].mean())"
   ]
  },
  {
   "cell_type": "code",
   "execution_count": 10,
   "id": "e78dc997",
   "metadata": {},
   "outputs": [],
   "source": [
    "#df.isnull().sum()"
   ]
  },
  {
   "cell_type": "code",
   "execution_count": 11,
   "id": "d66f891e",
   "metadata": {},
   "outputs": [],
   "source": [
    "from sklearn.preprocessing import LabelEncoder\n",
    "le=LabelEncoder()"
   ]
  },
  {
   "cell_type": "code",
   "execution_count": 12,
   "id": "651da578",
   "metadata": {},
   "outputs": [],
   "source": [
    "df['sex']=le.fit_transform(df['sex'])"
   ]
  },
  {
   "cell_type": "code",
   "execution_count": 13,
   "id": "81dcfd16",
   "metadata": {},
   "outputs": [],
   "source": [
    "df['on_thyroxine']=le.fit_transform(df['on_thyroxine'])\n",
    "df['on_antithyroid_meds']=le.fit_transform(df['on_antithyroid_meds'])\n",
    "df['sick']=le.fit_transform(df['sick'])\n",
    "df['pregnant']=le.fit_transform(df['pregnant'])\n",
    "df['thyroid_surgery']=le.fit_transform(df['thyroid_surgery'])\n",
    "df['query_hypothyroid']=le.fit_transform(df['query_hypothyroid'])\n",
    "df['query_hyperthyroid']=le.fit_transform(df['query_hyperthyroid'])\n",
    "df['goitre']=le.fit_transform(df['goitre'])\n",
    "df['tumor']=le.fit_transform(df['tumor'])\n",
    "df['hypopituitary']=le.fit_transform(df['hypopituitary'])\n",
    "df['TSH_measured']=le.fit_transform(df['TSH_measured'])\n",
    "df['T3_measured']=le.fit_transform(df['T3_measured'])\n",
    "df['TT4_measured']=le.fit_transform(df['TT4_measured'])\n",
    "df['T4U_measured']=le.fit_transform(df['T4U_measured'])\n",
    "df['FTI_measured']=le.fit_transform(df['FTI_measured'])"
   ]
  },
  {
   "cell_type": "code",
   "execution_count": 14,
   "id": "03c72077",
   "metadata": {},
   "outputs": [
    {
     "data": {
      "text/html": [
       "<div>\n",
       "<style scoped>\n",
       "    .dataframe tbody tr th:only-of-type {\n",
       "        vertical-align: middle;\n",
       "    }\n",
       "\n",
       "    .dataframe tbody tr th {\n",
       "        vertical-align: top;\n",
       "    }\n",
       "\n",
       "    .dataframe thead th {\n",
       "        text-align: right;\n",
       "    }\n",
       "</style>\n",
       "<table border=\"1\" class=\"dataframe\">\n",
       "  <thead>\n",
       "    <tr style=\"text-align: right;\">\n",
       "      <th></th>\n",
       "      <th>age</th>\n",
       "      <th>sex</th>\n",
       "      <th>on_thyroxine</th>\n",
       "      <th>on_antithyroid_meds</th>\n",
       "      <th>sick</th>\n",
       "      <th>pregnant</th>\n",
       "      <th>thyroid_surgery</th>\n",
       "      <th>query_hypothyroid</th>\n",
       "      <th>query_hyperthyroid</th>\n",
       "      <th>goitre</th>\n",
       "      <th>...</th>\n",
       "      <th>TSH</th>\n",
       "      <th>T3_measured</th>\n",
       "      <th>T3</th>\n",
       "      <th>TT4_measured</th>\n",
       "      <th>TT4</th>\n",
       "      <th>T4U_measured</th>\n",
       "      <th>T4U</th>\n",
       "      <th>FTI_measured</th>\n",
       "      <th>FTI</th>\n",
       "      <th>target</th>\n",
       "    </tr>\n",
       "  </thead>\n",
       "  <tbody>\n",
       "    <tr>\n",
       "      <th>0</th>\n",
       "      <td>29</td>\n",
       "      <td>0</td>\n",
       "      <td>0</td>\n",
       "      <td>0</td>\n",
       "      <td>0</td>\n",
       "      <td>0</td>\n",
       "      <td>0</td>\n",
       "      <td>1</td>\n",
       "      <td>0</td>\n",
       "      <td>0</td>\n",
       "      <td>...</td>\n",
       "      <td>0.300000</td>\n",
       "      <td>0</td>\n",
       "      <td>1.970629</td>\n",
       "      <td>0</td>\n",
       "      <td>108.700305</td>\n",
       "      <td>0</td>\n",
       "      <td>0.976056</td>\n",
       "      <td>0</td>\n",
       "      <td>113.640746</td>\n",
       "      <td>-</td>\n",
       "    </tr>\n",
       "    <tr>\n",
       "      <th>1</th>\n",
       "      <td>29</td>\n",
       "      <td>0</td>\n",
       "      <td>0</td>\n",
       "      <td>0</td>\n",
       "      <td>0</td>\n",
       "      <td>0</td>\n",
       "      <td>0</td>\n",
       "      <td>0</td>\n",
       "      <td>0</td>\n",
       "      <td>0</td>\n",
       "      <td>...</td>\n",
       "      <td>1.600000</td>\n",
       "      <td>1</td>\n",
       "      <td>1.900000</td>\n",
       "      <td>1</td>\n",
       "      <td>128.000000</td>\n",
       "      <td>0</td>\n",
       "      <td>0.976056</td>\n",
       "      <td>0</td>\n",
       "      <td>113.640746</td>\n",
       "      <td>-</td>\n",
       "    </tr>\n",
       "    <tr>\n",
       "      <th>2</th>\n",
       "      <td>41</td>\n",
       "      <td>0</td>\n",
       "      <td>0</td>\n",
       "      <td>0</td>\n",
       "      <td>0</td>\n",
       "      <td>0</td>\n",
       "      <td>0</td>\n",
       "      <td>0</td>\n",
       "      <td>1</td>\n",
       "      <td>0</td>\n",
       "      <td>...</td>\n",
       "      <td>5.218403</td>\n",
       "      <td>0</td>\n",
       "      <td>1.970629</td>\n",
       "      <td>0</td>\n",
       "      <td>108.700305</td>\n",
       "      <td>0</td>\n",
       "      <td>0.976056</td>\n",
       "      <td>0</td>\n",
       "      <td>113.640746</td>\n",
       "      <td>-</td>\n",
       "    </tr>\n",
       "    <tr>\n",
       "      <th>3</th>\n",
       "      <td>36</td>\n",
       "      <td>0</td>\n",
       "      <td>0</td>\n",
       "      <td>0</td>\n",
       "      <td>0</td>\n",
       "      <td>0</td>\n",
       "      <td>0</td>\n",
       "      <td>0</td>\n",
       "      <td>0</td>\n",
       "      <td>0</td>\n",
       "      <td>...</td>\n",
       "      <td>5.218403</td>\n",
       "      <td>0</td>\n",
       "      <td>1.970629</td>\n",
       "      <td>0</td>\n",
       "      <td>108.700305</td>\n",
       "      <td>0</td>\n",
       "      <td>0.976056</td>\n",
       "      <td>0</td>\n",
       "      <td>113.640746</td>\n",
       "      <td>-</td>\n",
       "    </tr>\n",
       "    <tr>\n",
       "      <th>4</th>\n",
       "      <td>32</td>\n",
       "      <td>0</td>\n",
       "      <td>0</td>\n",
       "      <td>0</td>\n",
       "      <td>0</td>\n",
       "      <td>0</td>\n",
       "      <td>0</td>\n",
       "      <td>0</td>\n",
       "      <td>0</td>\n",
       "      <td>0</td>\n",
       "      <td>...</td>\n",
       "      <td>5.218403</td>\n",
       "      <td>0</td>\n",
       "      <td>1.970629</td>\n",
       "      <td>0</td>\n",
       "      <td>108.700305</td>\n",
       "      <td>0</td>\n",
       "      <td>0.976056</td>\n",
       "      <td>0</td>\n",
       "      <td>113.640746</td>\n",
       "      <td>S</td>\n",
       "    </tr>\n",
       "  </tbody>\n",
       "</table>\n",
       "<p>5 rows × 24 columns</p>\n",
       "</div>"
      ],
      "text/plain": [
       "   age  sex  on_thyroxine  on_antithyroid_meds  sick  pregnant  \\\n",
       "0   29    0             0                    0     0         0   \n",
       "1   29    0             0                    0     0         0   \n",
       "2   41    0             0                    0     0         0   \n",
       "3   36    0             0                    0     0         0   \n",
       "4   32    0             0                    0     0         0   \n",
       "\n",
       "   thyroid_surgery  query_hypothyroid  query_hyperthyroid  goitre  ...  \\\n",
       "0                0                  1                   0       0  ...   \n",
       "1                0                  0                   0       0  ...   \n",
       "2                0                  0                   1       0  ...   \n",
       "3                0                  0                   0       0  ...   \n",
       "4                0                  0                   0       0  ...   \n",
       "\n",
       "        TSH  T3_measured        T3  TT4_measured         TT4  T4U_measured  \\\n",
       "0  0.300000            0  1.970629             0  108.700305             0   \n",
       "1  1.600000            1  1.900000             1  128.000000             0   \n",
       "2  5.218403            0  1.970629             0  108.700305             0   \n",
       "3  5.218403            0  1.970629             0  108.700305             0   \n",
       "4  5.218403            0  1.970629             0  108.700305             0   \n",
       "\n",
       "        T4U  FTI_measured         FTI  target  \n",
       "0  0.976056             0  113.640746       -  \n",
       "1  0.976056             0  113.640746       -  \n",
       "2  0.976056             0  113.640746       -  \n",
       "3  0.976056             0  113.640746       -  \n",
       "4  0.976056             0  113.640746       S  \n",
       "\n",
       "[5 rows x 24 columns]"
      ]
     },
     "execution_count": 14,
     "metadata": {},
     "output_type": "execute_result"
    }
   ],
   "source": [
    "df.head()"
   ]
  },
  {
   "cell_type": "code",
   "execution_count": 15,
   "id": "e6d95a49",
   "metadata": {},
   "outputs": [],
   "source": [
    "#df['target'].isnull().sum()*100/len(df['target'])"
   ]
  },
  {
   "cell_type": "code",
   "execution_count": 16,
   "id": "307060e1",
   "metadata": {},
   "outputs": [],
   "source": [
    "#df['target'].series.sum()"
   ]
  },
  {
   "cell_type": "code",
   "execution_count": 17,
   "id": "9603cbf5",
   "metadata": {},
   "outputs": [
    {
     "data": {
      "text/plain": [
       "-      6771\n",
       "K       436\n",
       "G       359\n",
       "I       346\n",
       "F       233\n",
       "R       196\n",
       "A       147\n",
       "L       115\n",
       "M       111\n",
       "N       110\n",
       "S        85\n",
       "GK       49\n",
       "AK       46\n",
       "J        30\n",
       "B        21\n",
       "MK       16\n",
       "Q        14\n",
       "O        14\n",
       "C|I      12\n",
       "KJ       11\n",
       "GI       10\n",
       "H|K       8\n",
       "D         8\n",
       "FK        6\n",
       "C         6\n",
       "P         5\n",
       "MI        2\n",
       "LJ        1\n",
       "GKJ       1\n",
       "OI        1\n",
       "D|R       1\n",
       "E         1\n",
       "Name: target, dtype: int64"
      ]
     },
     "execution_count": 17,
     "metadata": {},
     "output_type": "execute_result"
    }
   ],
   "source": [
    "df['target'].value_counts() "
   ]
  },
  {
   "cell_type": "code",
   "execution_count": 18,
   "id": "1f3fc452",
   "metadata": {},
   "outputs": [
    {
     "data": {
      "text/plain": [
       "\"df['target'].replace('K','1',inplace=True)\\ndf['target'].replace('G','1',inplace=True)\\ndf['target'].replace('E','1',inplace=True)\\ndf['target'].replace('D|R','1',inplace=True)\\ndf['target'].replace('OI','1',inplace=True)\\ndf['target'].replace('GKJ','1',inplace=True)\\ndf['target'].replace('LJ','1',inplace=True)\\ndf['target'].replace('MI','1',inplace=True)\\ndf['target'].replace('P','1',inplace=True)\\ndf['target'].replace('C','1',inplace=True)\\ndf['target'].replace('FK','1',inplace=True)\\ndf['target'].replace('D','1',inplace=True)\\ndf['target'].replace('H|K','1',inplace=True)\\ndf['target'].replace('GI','1',inplace=True)\\ndf['target'].replace('KJ','1',inplace=True)\\ndf['target'].replace('C|I','1',inplace=True)\\ndf['target'].replace('O','1',inplace=True)\\ndf['target'].replace('Q','1',inplace=True)\\ndf['target'].replace('MK','1',inplace=True)\\ndf['target'].replace('B','1',inplace=True)\\ndf['target'].replace('J','1',inplace=True)\\ndf['target'].replace('AK','1',inplace=True)\\ndf['target'].replace('GK','1',inplace=True)\\ndf['target'].replace('S','1',inplace=True)\\ndf['target'].replace('N','1',inplace=True)\\ndf['target'].replace('M','1',inplace=True)\\ndf['target'].replace('L','1',inplace=True)\\ndf['target'].replace('A','1',inplace=True)\\ndf['target'].replace('R','1',inplace=True)\\ndf['target'].replace('F','1',inplace=True)\\ndf['target'].replace('I','1',inplace=True)\""
      ]
     },
     "execution_count": 18,
     "metadata": {},
     "output_type": "execute_result"
    }
   ],
   "source": [
    "df['target'].replace('-','No',inplace=True)\n",
    "'''df['target'].replace('K','1',inplace=True)\n",
    "df['target'].replace('G','1',inplace=True)\n",
    "df['target'].replace('E','1',inplace=True)\n",
    "df['target'].replace('D|R','1',inplace=True)\n",
    "df['target'].replace('OI','1',inplace=True)\n",
    "df['target'].replace('GKJ','1',inplace=True)\n",
    "df['target'].replace('LJ','1',inplace=True)\n",
    "df['target'].replace('MI','1',inplace=True)\n",
    "df['target'].replace('P','1',inplace=True)\n",
    "df['target'].replace('C','1',inplace=True)\n",
    "df['target'].replace('FK','1',inplace=True)\n",
    "df['target'].replace('D','1',inplace=True)\n",
    "df['target'].replace('H|K','1',inplace=True)\n",
    "df['target'].replace('GI','1',inplace=True)\n",
    "df['target'].replace('KJ','1',inplace=True)\n",
    "df['target'].replace('C|I','1',inplace=True)\n",
    "df['target'].replace('O','1',inplace=True)\n",
    "df['target'].replace('Q','1',inplace=True)\n",
    "df['target'].replace('MK','1',inplace=True)\n",
    "df['target'].replace('B','1',inplace=True)\n",
    "df['target'].replace('J','1',inplace=True)\n",
    "df['target'].replace('AK','1',inplace=True)\n",
    "df['target'].replace('GK','1',inplace=True)\n",
    "df['target'].replace('S','1',inplace=True)\n",
    "df['target'].replace('N','1',inplace=True)\n",
    "df['target'].replace('M','1',inplace=True)\n",
    "df['target'].replace('L','1',inplace=True)\n",
    "df['target'].replace('A','1',inplace=True)\n",
    "df['target'].replace('R','1',inplace=True)\n",
    "df['target'].replace('F','1',inplace=True)\n",
    "df['target'].replace('I','1',inplace=True)'''"
   ]
  },
  {
   "cell_type": "code",
   "execution_count": 20,
   "id": "623a9a31",
   "metadata": {},
   "outputs": [],
   "source": [
    "#df['target'].value_counts()"
   ]
  },
  {
   "cell_type": "code",
   "execution_count": 21,
   "id": "266ea5a0",
   "metadata": {},
   "outputs": [],
   "source": [
    "df.drop_duplicates(inplace=True)"
   ]
  },
  {
   "cell_type": "code",
   "execution_count": 22,
   "id": "451635a8",
   "metadata": {},
   "outputs": [
    {
     "data": {
      "text/plain": [
       "(9064, 24)"
      ]
     },
     "execution_count": 22,
     "metadata": {},
     "output_type": "execute_result"
    }
   ],
   "source": [
    "df.shape"
   ]
  },
  {
   "cell_type": "code",
   "execution_count": 24,
   "id": "16317cfe",
   "metadata": {},
   "outputs": [],
   "source": [
    "import statsmodels.api as sm"
   ]
  },
  {
   "cell_type": "code",
   "execution_count": 25,
   "id": "5216e423",
   "metadata": {},
   "outputs": [],
   "source": [
    "import statsmodels.formula.api as smf"
   ]
  },
  {
   "cell_type": "code",
   "execution_count": 26,
   "id": "76f99382",
   "metadata": {},
   "outputs": [
    {
     "data": {
      "text/plain": [
       "(9064, 24)"
      ]
     },
     "execution_count": 26,
     "metadata": {},
     "output_type": "execute_result"
    }
   ],
   "source": [
    "df.shape"
   ]
  },
  {
   "cell_type": "code",
   "execution_count": 28,
   "id": "c4985fd4",
   "metadata": {},
   "outputs": [],
   "source": [
    "df['target']=le.fit_transform(df['target'])\n",
    "df['psych']=le.fit_transform(df['psych'])\n",
    "#df['target']"
   ]
  },
  {
   "cell_type": "code",
   "execution_count": 29,
   "id": "e18a3f21",
   "metadata": {},
   "outputs": [],
   "source": [
    "x=df.drop('target',axis=1)\n",
    "y=df['target']"
   ]
  },
  {
   "cell_type": "code",
   "execution_count": 30,
   "id": "68e7cd21",
   "metadata": {},
   "outputs": [
    {
     "data": {
      "text/plain": [
       "(9064, 23)"
      ]
     },
     "execution_count": 30,
     "metadata": {},
     "output_type": "execute_result"
    }
   ],
   "source": [
    "x.shape"
   ]
  },
  {
   "cell_type": "code",
   "execution_count": 31,
   "id": "65b2ec1c",
   "metadata": {},
   "outputs": [],
   "source": [
    "model=smf.ols('y~x',data=df).fit()"
   ]
  },
  {
   "cell_type": "code",
   "execution_count": 32,
   "id": "def7ae05",
   "metadata": {},
   "outputs": [],
   "source": [
    "model_influence=model.get_influence()\n",
    "(c,_)=model_influence.cooks_distance"
   ]
  },
  {
   "cell_type": "code",
   "execution_count": 34,
   "id": "8b2b116c",
   "metadata": {},
   "outputs": [
    {
     "data": {
      "text/plain": [
       "<StemContainer object of 3 artists>"
      ]
     },
     "execution_count": 34,
     "metadata": {},
     "output_type": "execute_result"
    },
    {
     "data": {
      "image/png": "[encoded data removed]",
      "text/plain": [
       "<Figure size 1440x504 with 1 Axes>"
      ]
     },
     "metadata": {
      "needs_background": "light"
     },
     "output_type": "display_data"
    }
   ],
   "source": [
    "import matplotlib.pyplot as plt\n",
    "plt.subplots(figsize=(20,7))\n",
    "plt.stem(np.arange(len(df)),c)"
   ]
  },
  {
   "cell_type": "code",
   "execution_count": 35,
   "id": "eecb7cb5",
   "metadata": {},
   "outputs": [
    {
     "data": {
      "text/plain": [
       "(1598, 0.13009016812711885)"
      ]
     },
     "execution_count": 35,
     "metadata": {},
     "output_type": "execute_result"
    }
   ],
   "source": [
    "(np.argmax(c),np.max(c))"
   ]
  },
  {
   "cell_type": "code",
   "execution_count": null,
   "id": "998b194d",
   "metadata": {},
   "outputs": [],
   "source": []
  },
  {
   "cell_type": "code",
   "execution_count": 36,
   "id": "1c887ef7",
   "metadata": {},
   "outputs": [
    {
     "data": {
      "text/html": [
       "<div>\n",
       "<style scoped>\n",
       "    .dataframe tbody tr th:only-of-type {\n",
       "        vertical-align: middle;\n",
       "    }\n",
       "\n",
       "    .dataframe tbody tr th {\n",
       "        vertical-align: top;\n",
       "    }\n",
       "\n",
       "    .dataframe thead th {\n",
       "        text-align: right;\n",
       "    }\n",
       "</style>\n",
       "<table border=\"1\" class=\"dataframe\">\n",
       "  <thead>\n",
       "    <tr style=\"text-align: right;\">\n",
       "      <th></th>\n",
       "      <th>age</th>\n",
       "      <th>sex</th>\n",
       "      <th>on_thyroxine</th>\n",
       "      <th>on_antithyroid_meds</th>\n",
       "      <th>sick</th>\n",
       "      <th>pregnant</th>\n",
       "      <th>thyroid_surgery</th>\n",
       "      <th>query_hypothyroid</th>\n",
       "      <th>query_hyperthyroid</th>\n",
       "      <th>goitre</th>\n",
       "      <th>...</th>\n",
       "      <th>TSH</th>\n",
       "      <th>T3_measured</th>\n",
       "      <th>T3</th>\n",
       "      <th>TT4_measured</th>\n",
       "      <th>TT4</th>\n",
       "      <th>T4U_measured</th>\n",
       "      <th>T4U</th>\n",
       "      <th>FTI_measured</th>\n",
       "      <th>FTI</th>\n",
       "      <th>target</th>\n",
       "    </tr>\n",
       "  </thead>\n",
       "  <tbody>\n",
       "    <tr>\n",
       "      <th>0</th>\n",
       "      <td>29</td>\n",
       "      <td>0</td>\n",
       "      <td>0</td>\n",
       "      <td>0</td>\n",
       "      <td>0</td>\n",
       "      <td>0</td>\n",
       "      <td>0</td>\n",
       "      <td>1</td>\n",
       "      <td>0</td>\n",
       "      <td>0</td>\n",
       "      <td>...</td>\n",
       "      <td>0.3</td>\n",
       "      <td>0</td>\n",
       "      <td>1.970629</td>\n",
       "      <td>0</td>\n",
       "      <td>108.700305</td>\n",
       "      <td>0</td>\n",
       "      <td>0.976056</td>\n",
       "      <td>0</td>\n",
       "      <td>113.640746</td>\n",
       "      <td>25</td>\n",
       "    </tr>\n",
       "  </tbody>\n",
       "</table>\n",
       "<p>1 rows × 24 columns</p>\n",
       "</div>"
      ],
      "text/plain": [
       "   age  sex  on_thyroxine  on_antithyroid_meds  sick  pregnant  \\\n",
       "0   29    0             0                    0     0         0   \n",
       "\n",
       "   thyroid_surgery  query_hypothyroid  query_hyperthyroid  goitre  ...  TSH  \\\n",
       "0                0                  1                   0       0  ...  0.3   \n",
       "\n",
       "   T3_measured        T3  TT4_measured         TT4  T4U_measured       T4U  \\\n",
       "0            0  1.970629             0  108.700305             0  0.976056   \n",
       "\n",
       "   FTI_measured         FTI  target  \n",
       "0             0  113.640746      25  \n",
       "\n",
       "[1 rows x 24 columns]"
      ]
     },
     "execution_count": 36,
     "metadata": {},
     "output_type": "execute_result"
    }
   ],
   "source": [
    "df1=df.drop(df.index[1598],axis=0)\n",
    "df1.head(1)"
   ]
  },
  {
   "cell_type": "code",
   "execution_count": 37,
   "id": "a913b9ef",
   "metadata": {},
   "outputs": [
    {
     "name": "stdout",
     "output_type": "stream",
     "text": [
      "<class 'pandas.core.frame.DataFrame'>\n",
      "Int64Index: 9063 entries, 0 to 9171\n",
      "Data columns (total 24 columns):\n",
      " #   Column               Non-Null Count  Dtype  \n",
      "---  ------               --------------  -----  \n",
      " 0   age                  9063 non-null   int64  \n",
      " 1   sex                  9063 non-null   int32  \n",
      " 2   on_thyroxine         9063 non-null   int32  \n",
      " 3   on_antithyroid_meds  9063 non-null   int32  \n",
      " 4   sick                 9063 non-null   int32  \n",
      " 5   pregnant             9063 non-null   int32  \n",
      " 6   thyroid_surgery      9063 non-null   int32  \n",
      " 7   query_hypothyroid    9063 non-null   int32  \n",
      " 8   query_hyperthyroid   9063 non-null   int32  \n",
      " 9   goitre               9063 non-null   int32  \n",
      " 10  tumor                9063 non-null   int32  \n",
      " 11  hypopituitary        9063 non-null   int32  \n",
      " 12  psych                9063 non-null   int64  \n",
      " 13  TSH_measured         9063 non-null   int32  \n",
      " 14  TSH                  9063 non-null   float64\n",
      " 15  T3_measured          9063 non-null   int32  \n",
      " 16  T3                   9063 non-null   float64\n",
      " 17  TT4_measured         9063 non-null   int32  \n",
      " 18  TT4                  9063 non-null   float64\n",
      " 19  T4U_measured         9063 non-null   int32  \n",
      " 20  T4U                  9063 non-null   float64\n",
      " 21  FTI_measured         9063 non-null   int32  \n",
      " 22  FTI                  9063 non-null   float64\n",
      " 23  target               9063 non-null   int64  \n",
      "dtypes: float64(5), int32(16), int64(3)\n",
      "memory usage: 1.2 MB\n"
     ]
    }
   ],
   "source": [
    "df1.info()"
   ]
  },
  {
   "cell_type": "code",
   "execution_count": 38,
   "id": "9a036eb7",
   "metadata": {},
   "outputs": [],
   "source": [
    "x1=df1.drop('target',axis=1)\n",
    "y1=df1['target']"
   ]
  },
  {
   "cell_type": "code",
   "execution_count": 39,
   "id": "c1b9ed0b",
   "metadata": {},
   "outputs": [
    {
     "data": {
      "text/plain": [
       "0       25\n",
       "1       25\n",
       "2       25\n",
       "3       25\n",
       "4       31\n",
       "        ..\n",
       "9167    25\n",
       "9168    25\n",
       "9169    15\n",
       "9170    25\n",
       "9171    25\n",
       "Name: target, Length: 9063, dtype: int64"
      ]
     },
     "execution_count": 39,
     "metadata": {},
     "output_type": "execute_result"
    }
   ],
   "source": [
    "y1"
   ]
  },
  {
   "cell_type": "code",
   "execution_count": 40,
   "id": "0194074d",
   "metadata": {},
   "outputs": [],
   "source": [
    "model1=smf.ols('y1~x1',data=df1).fit()"
   ]
  },
  {
   "cell_type": "code",
   "execution_count": 41,
   "id": "c3b99af8",
   "metadata": {},
   "outputs": [],
   "source": [
    "model_influence1 = model1.get_influence()\n",
    "(c1, _) = model_influence1.cooks_distance"
   ]
  },
  {
   "cell_type": "code",
   "execution_count": 43,
   "id": "479db505",
   "metadata": {},
   "outputs": [
    {
     "data": {
      "image/png": "[encoded data removed]",
      "text/plain": [
       "<Figure size 1440x504 with 1 Axes>"
      ]
     },
     "metadata": {
      "needs_background": "light"
     },
     "output_type": "display_data"
    },
    {
     "data": {
      "text/plain": [
       "'objective\\napproach\\nbenifits of aproach\\nresul'"
      ]
     },
     "execution_count": 43,
     "metadata": {},
     "output_type": "execute_result"
    }
   ],
   "source": [
    "#import matplotlib.pyplot as plt\n",
    "fig = plt.subplots(figsize=(20, 7))\n",
    "plt.stem(np.arange(len(df1)), np.round(c1, 3))\n",
    "plt.xlabel('Row index')\n",
    "plt.ylabel('Cooks Distance')\n",
    "plt.show()\n",
    "'''objective\n",
    "approach\n",
    "benifits of aproach\n",
    "resul'''"
   ]
  },
  {
   "cell_type": "code",
   "execution_count": 44,
   "id": "18076ac4",
   "metadata": {},
   "outputs": [],
   "source": [
    "x2=df1.iloc[:,0:23]\n",
    "y2=df1.iloc[:,-1]\n",
    "y2=y2.astype('str')"
   ]
  },
  {
   "cell_type": "code",
   "execution_count": 45,
   "id": "619f8bcb",
   "metadata": {},
   "outputs": [],
   "source": [
    "from sklearn.model_selection import train_test_split as tts\n",
    "x_train,x_test,y_train,y_test=tts(x2,y2,test_size=0.2,random_state=40)"
   ]
  },
  {
   "cell_type": "code",
   "execution_count": 46,
   "id": "30286629",
   "metadata": {},
   "outputs": [],
   "source": [
    "from sklearn.preprocessing import StandardScaler\n",
    "ss=StandardScaler()\n",
    "x_train=ss.fit_transform(x_train)\n",
    "x_test=ss.transform(x_test)"
   ]
  },
  {
   "cell_type": "code",
   "execution_count": 47,
   "id": "595008b9",
   "metadata": {},
   "outputs": [
    {
     "name": "stdout",
     "output_type": "stream",
     "text": [
      "(7250, 23)\n",
      "(7250,)\n",
      "(1813, 23)\n",
      "(1813,)\n"
     ]
    }
   ],
   "source": [
    "print(x_train.shape)\n",
    "print(y_train.shape)\n",
    "print(x_test.shape)\n",
    "print(y_test.shape)"
   ]
  },
  {
   "cell_type": "code",
   "execution_count": 48,
   "id": "3e8defe7",
   "metadata": {},
   "outputs": [
    {
     "data": {
      "text/plain": [
       "120     25\n",
       "705     10\n",
       "1022    25\n",
       "1196    25\n",
       "7042    25\n",
       "        ..\n",
       "7937    25\n",
       "3659    25\n",
       "6038    25\n",
       "5502    25\n",
       "7704    25\n",
       "Name: target, Length: 7250, dtype: object"
      ]
     },
     "execution_count": 48,
     "metadata": {},
     "output_type": "execute_result"
    }
   ],
   "source": [
    "y_train"
   ]
  },
  {
   "cell_type": "code",
   "execution_count": 49,
   "id": "f6e1c0eb",
   "metadata": {},
   "outputs": [],
   "source": [
    "from sklearn.tree import DecisionTreeClassifier\n",
    "dt=DecisionTreeClassifier()\n",
    "mod=dt.fit(x_train,y_train)"
   ]
  },
  {
   "cell_type": "code",
   "execution_count": 50,
   "id": "26f806e2",
   "metadata": {},
   "outputs": [],
   "source": [
    "yp=dt.predict(x_test)"
   ]
  },
  {
   "cell_type": "code",
   "execution_count": 52,
   "id": "25c8e3ca",
   "metadata": {},
   "outputs": [],
   "source": [
    "from sklearn.metrics import confusion_matrix,accuracy_score"
   ]
  },
  {
   "cell_type": "code",
   "execution_count": 53,
   "id": "79ebe408",
   "metadata": {},
   "outputs": [
    {
     "name": "stdout",
     "output_type": "stream",
     "text": [
      "Accuracy: 0.9200220628792057\n"
     ]
    }
   ],
   "source": [
    "print(\"Accuracy:\",accuracy_score(y_test, yp))"
   ]
  },
  {
   "cell_type": "code",
   "execution_count": null,
   "id": "7657ef03",
   "metadata": {},
   "outputs": [],
   "source": []
  },
  {
   "cell_type": "code",
   "execution_count": null,
   "id": "f8e2963b",
   "metadata": {},
   "outputs": [],
   "source": []
  },
  {
   "cell_type": "code",
   "execution_count": null,
   "id": "a2c71348",
   "metadata": {},
   "outputs": [],
   "source": []
  },
  {
   "cell_type": "code",
   "execution_count": null,
   "id": "1d674cf3",
   "metadata": {},
   "outputs": [],
   "source": []
  }
 ],
 "metadata": {
  "kernelspec": {
   "display_name": "Python 3 (ipykernel)",
   "language": "python",
   "name": "python3"
  },
  "language_info": {
   "codemirror_mode": {
    "name": "ipython",
    "version": 3
   },
   "file_extension": ".py",
   "mimetype": "text/x-python",
   "name": "python",
   "nbconvert_exporter": "python",
   "pygments_lexer": "ipython3",
   "version": "3.9.12"
  }
 },
 "nbformat": 4,
 "nbformat_minor": 5
}
